{
  "cells": [
    {
      "cell_type": "markdown",
      "metadata": {
        "id": "view-in-github",
        "colab_type": "text"
      },
      "source": [
        "<a href=\"https://colab.research.google.com/github/Ramsrinivas7/Python_101/blob/main/Handson_Day1.ipynb\" target=\"_parent\"><img src=\"https://colab.research.google.com/assets/colab-badge.svg\" alt=\"Open In Colab\"/></a>"
      ]
    },
    {
      "cell_type": "code",
      "execution_count": null,
      "id": "af596c56",
      "metadata": {
        "id": "af596c56",
        "outputId": "1eebe8bc-8d1c-4f8a-c58a-4a38d2e6bbb5"
      },
      "outputs": [
        {
          "name": "stdout",
          "output_type": "stream",
          "text": [
            "HI!\n"
          ]
        }
      ],
      "source": [
        "print(\"HI!\")"
      ]
    },
    {
      "cell_type": "code",
      "execution_count": null,
      "id": "f3aed9c6",
      "metadata": {
        "id": "f3aed9c6",
        "outputId": "e3cbe057-34d1-4741-b33d-d1f6b27fb897"
      },
      "outputs": [
        {
          "ename": "SyntaxError",
          "evalue": "invalid syntax (1467700675.py, line 1)",
          "output_type": "error",
          "traceback": [
            "\u001b[0;36m  Cell \u001b[0;32mIn[2], line 1\u001b[0;36m\u001b[0m\n\u001b[0;31m    print(HI!)\u001b[0m\n\u001b[0m            ^\u001b[0m\n\u001b[0;31mSyntaxError\u001b[0m\u001b[0;31m:\u001b[0m invalid syntax\n"
          ]
        }
      ],
      "source": [
        "print(HI!)"
      ]
    },
    {
      "cell_type": "code",
      "execution_count": null,
      "id": "559bee1b",
      "metadata": {
        "id": "559bee1b",
        "outputId": "032f2438-d7d9-4a40-e30a-92a3ea1fabf8"
      },
      "outputs": [
        {
          "ename": "SyntaxError",
          "evalue": "unterminated string literal (detected at line 1) (757313421.py, line 1)",
          "output_type": "error",
          "traceback": [
            "\u001b[0;36m  Cell \u001b[0;32mIn[3], line 1\u001b[0;36m\u001b[0m\n\u001b[0;31m    print(\"HI!)\u001b[0m\n\u001b[0m          ^\u001b[0m\n\u001b[0;31mSyntaxError\u001b[0m\u001b[0;31m:\u001b[0m unterminated string literal (detected at line 1)\n"
          ]
        }
      ],
      "source": [
        "print(\"HI!)"
      ]
    },
    {
      "cell_type": "code",
      "execution_count": null,
      "id": "c0fd17ec",
      "metadata": {
        "id": "c0fd17ec",
        "outputId": "afa33e53-9391-4833-9e60-353260caffcb"
      },
      "outputs": [
        {
          "ename": "SyntaxError",
          "evalue": "Missing parentheses in call to 'print'. Did you mean print(...)? (2451979422.py, line 1)",
          "output_type": "error",
          "traceback": [
            "\u001b[0;36m  Cell \u001b[0;32mIn[4], line 1\u001b[0;36m\u001b[0m\n\u001b[0;31m    print \"HI!\"\u001b[0m\n\u001b[0m    ^\u001b[0m\n\u001b[0;31mSyntaxError\u001b[0m\u001b[0;31m:\u001b[0m Missing parentheses in call to 'print'. Did you mean print(...)?\n"
          ]
        }
      ],
      "source": [
        "print \"HI!\""
      ]
    },
    {
      "cell_type": "code",
      "execution_count": null,
      "id": "2c91db83",
      "metadata": {
        "id": "2c91db83",
        "outputId": "92872632-a4dc-494e-9e75-8c31c2c0e58d"
      },
      "outputs": [
        {
          "ename": "SyntaxError",
          "evalue": "incomplete input (3577536024.py, line 1)",
          "output_type": "error",
          "traceback": [
            "\u001b[0;36m  Cell \u001b[0;32mIn[5], line 1\u001b[0;36m\u001b[0m\n\u001b[0;31m    print(\"HI!\"\u001b[0m\n\u001b[0m               ^\u001b[0m\n\u001b[0;31mSyntaxError\u001b[0m\u001b[0;31m:\u001b[0m incomplete input\n"
          ]
        }
      ],
      "source": [
        "print(\"HI!\""
      ]
    },
    {
      "cell_type": "code",
      "execution_count": null,
      "id": "472df8e6",
      "metadata": {
        "id": "472df8e6",
        "outputId": "052b84e1-b4fd-4ac0-b01d-76f12da59ea1"
      },
      "outputs": [
        {
          "ename": "SyntaxError",
          "evalue": "invalid syntax (1571340681.py, line 1)",
          "output_type": "error",
          "traceback": [
            "\u001b[0;36m  Cell \u001b[0;32mIn[6], line 1\u001b[0;36m\u001b[0m\n\u001b[0;31m    print(\"HI\"!)\u001b[0m\n\u001b[0m              ^\u001b[0m\n\u001b[0;31mSyntaxError\u001b[0m\u001b[0;31m:\u001b[0m invalid syntax\n"
          ]
        }
      ],
      "source": [
        "print(\"HI\"!)"
      ]
    },
    {
      "cell_type": "code",
      "execution_count": null,
      "id": "8d8449a1",
      "metadata": {
        "id": "8d8449a1",
        "outputId": "2a36bc2b-46b3-4142-8d45-60c700953d09"
      },
      "outputs": [
        {
          "ename": "NameError",
          "evalue": "name 'Print' is not defined",
          "output_type": "error",
          "traceback": [
            "\u001b[0;31m---------------------------------------------------------------------------\u001b[0m",
            "\u001b[0;31mNameError\u001b[0m                                 Traceback (most recent call last)",
            "Cell \u001b[0;32mIn[7], line 1\u001b[0m\n\u001b[0;32m----> 1\u001b[0m \u001b[43mPrint\u001b[49m(\u001b[38;5;124m\"\u001b[39m\u001b[38;5;124mHi\u001b[39m\u001b[38;5;124m\"\u001b[39m)\n",
            "\u001b[0;31mNameError\u001b[0m: name 'Print' is not defined"
          ]
        }
      ],
      "source": [
        "Print(\"Hi\")"
      ]
    },
    {
      "cell_type": "code",
      "execution_count": null,
      "id": "4d2726bd",
      "metadata": {
        "id": "4d2726bd",
        "outputId": "c5d95c22-d295-405a-b61d-83cc56efd1da"
      },
      "outputs": [
        {
          "ename": "NameError",
          "evalue": "name 'prnit' is not defined",
          "output_type": "error",
          "traceback": [
            "\u001b[0;31m---------------------------------------------------------------------------\u001b[0m",
            "\u001b[0;31mNameError\u001b[0m                                 Traceback (most recent call last)",
            "Cell \u001b[0;32mIn[8], line 1\u001b[0m\n\u001b[0;32m----> 1\u001b[0m \u001b[43mprnit\u001b[49m(\u001b[38;5;124m\"\u001b[39m\u001b[38;5;124mHI\u001b[39m\u001b[38;5;124m\"\u001b[39m)\n",
            "\u001b[0;31mNameError\u001b[0m: name 'prnit' is not defined"
          ]
        }
      ],
      "source": [
        "prnit(\"HI\")"
      ]
    },
    {
      "cell_type": "code",
      "execution_count": null,
      "id": "071ea2eb",
      "metadata": {
        "id": "071ea2eb",
        "outputId": "3ea66458-117b-4e92-f833-ade439972f8e"
      },
      "outputs": [
        {
          "data": {
            "text/plain": [
              "2.0"
            ]
          },
          "execution_count": 9,
          "metadata": {},
          "output_type": "execute_result"
        }
      ],
      "source": [
        "4/2"
      ]
    },
    {
      "cell_type": "code",
      "execution_count": null,
      "id": "fb3457b5",
      "metadata": {
        "id": "fb3457b5",
        "outputId": "283d36bb-69cb-4c6c-dd34-fe79d5c96a0e"
      },
      "outputs": [
        {
          "data": {
            "text/plain": [
              "8.0"
            ]
          },
          "execution_count": 11,
          "metadata": {},
          "output_type": "execute_result"
        }
      ],
      "source": [
        "4+(8*2)/4"
      ]
    },
    {
      "cell_type": "code",
      "execution_count": null,
      "id": "01c3cd19",
      "metadata": {
        "id": "01c3cd19",
        "outputId": "8d0279b5-15d7-466f-e20c-2a705b63bc6e"
      },
      "outputs": [
        {
          "ename": "ZeroDivisionError",
          "evalue": "division by zero",
          "output_type": "error",
          "traceback": [
            "\u001b[0;31m---------------------------------------------------------------------------\u001b[0m",
            "\u001b[0;31mZeroDivisionError\u001b[0m                         Traceback (most recent call last)",
            "Cell \u001b[0;32mIn[10], line 1\u001b[0m\n\u001b[0;32m----> 1\u001b[0m \u001b[38;5;241;43m2\u001b[39;49m\u001b[38;5;241;43m/\u001b[39;49m\u001b[38;5;241;43m0\u001b[39;49m\n",
            "\u001b[0;31mZeroDivisionError\u001b[0m: division by zero"
          ]
        }
      ],
      "source": [
        "2/0"
      ]
    },
    {
      "cell_type": "code",
      "execution_count": null,
      "id": "db6e14ce",
      "metadata": {
        "id": "db6e14ce",
        "outputId": "1e11fd5b-3bfc-4618-a8f7-14d54072167f"
      },
      "outputs": [
        {
          "ename": "TypeError",
          "evalue": "can only concatenate str (not \"int\") to str",
          "output_type": "error",
          "traceback": [
            "\u001b[0;31m---------------------------------------------------------------------------\u001b[0m",
            "\u001b[0;31mTypeError\u001b[0m                                 Traceback (most recent call last)",
            "Cell \u001b[0;32mIn[12], line 1\u001b[0m\n\u001b[0;32m----> 1\u001b[0m \u001b[38;5;28mprint\u001b[39m(\u001b[38;5;124;43m\"\u001b[39;49m\u001b[38;5;124;43m You can\u001b[39;49m\u001b[38;5;124;43m'\u001b[39;49m\u001b[38;5;124;43mt add text and numbers\u001b[39;49m\u001b[38;5;124;43m\"\u001b[39;49m\u001b[43m \u001b[49m\u001b[38;5;241;43m+\u001b[39;49m\u001b[43m \u001b[49m\u001b[38;5;241;43m2\u001b[39;49m)\n",
            "\u001b[0;31mTypeError\u001b[0m: can only concatenate str (not \"int\") to str"
          ]
        }
      ],
      "source": [
        "print(\" You can't add text and numbers \" + 2)"
      ]
    },
    {
      "cell_type": "code",
      "execution_count": null,
      "id": "0309049f",
      "metadata": {
        "id": "0309049f",
        "outputId": "ee0ba8d8-d1aa-4118-d032-653b7169d19d"
      },
      "outputs": [
        {
          "name": "stdout",
          "output_type": "stream",
          "text": [
            " You can't add text and numbers 2\n"
          ]
        }
      ],
      "source": [
        "print(\" You can't add text and numbers \" + \"2\")"
      ]
    },
    {
      "cell_type": "markdown",
      "id": "b0f24937",
      "metadata": {
        "id": "b0f24937"
      },
      "source": [
        "# Variable"
      ]
    },
    {
      "cell_type": "code",
      "execution_count": null,
      "id": "7e7ab814",
      "metadata": {
        "id": "7e7ab814",
        "outputId": "2b336824-5816-494f-9065-fd674141e652"
      },
      "outputs": [
        {
          "ename": "SyntaxError",
          "evalue": "invalid syntax (3813952388.py, line 1)",
          "output_type": "error",
          "traceback": [
            "\u001b[0;36m  Cell \u001b[0;32mIn[14], line 1\u001b[0;36m\u001b[0m\n\u001b[0;31m    name = Ram Srinivas\u001b[0m\n\u001b[0m               ^\u001b[0m\n\u001b[0;31mSyntaxError\u001b[0m\u001b[0;31m:\u001b[0m invalid syntax\n"
          ]
        }
      ],
      "source": [
        "name = Ram Srinivas"
      ]
    },
    {
      "cell_type": "code",
      "execution_count": null,
      "id": "c8312a88",
      "metadata": {
        "id": "c8312a88"
      },
      "outputs": [],
      "source": [
        "name = \"Ram Srinivas\""
      ]
    },
    {
      "cell_type": "code",
      "execution_count": null,
      "id": "6ee064a5",
      "metadata": {
        "id": "6ee064a5",
        "outputId": "2d707ad9-3303-4548-9281-02ef61f0cafe"
      },
      "outputs": [
        {
          "name": "stdout",
          "output_type": "stream",
          "text": [
            "Ram Srinivas\n"
          ]
        }
      ],
      "source": [
        "print(name)"
      ]
    },
    {
      "cell_type": "code",
      "execution_count": null,
      "id": "dede1025",
      "metadata": {
        "id": "dede1025",
        "outputId": "097e9477-0b74-4a5e-8982-11acefaf37f2"
      },
      "outputs": [
        {
          "name": "stdout",
          "output_type": "stream",
          "text": [
            "What is your name: Ram\n"
          ]
        }
      ],
      "source": [
        "name_1 = input(\"What is your name: \")"
      ]
    },
    {
      "cell_type": "code",
      "execution_count": null,
      "id": "0f84d7c4",
      "metadata": {
        "id": "0f84d7c4",
        "outputId": "2b1ea6c6-d280-4a37-d98c-558fc8b89a71"
      },
      "outputs": [
        {
          "name": "stdout",
          "output_type": "stream",
          "text": [
            "Hello!  Ram\n"
          ]
        }
      ],
      "source": [
        "print(\"Hello! \",name_1)"
      ]
    },
    {
      "cell_type": "code",
      "execution_count": null,
      "id": "7db4ba23",
      "metadata": {
        "id": "7db4ba23",
        "outputId": "6eff7f36-2f50-4223-90c6-98709124d8fc"
      },
      "outputs": [
        {
          "ename": "SyntaxError",
          "evalue": "invalid decimal literal (1429002172.py, line 1)",
          "output_type": "error",
          "traceback": [
            "\u001b[0;36m  Cell \u001b[0;32mIn[24], line 1\u001b[0;36m\u001b[0m\n\u001b[0;31m    1_name = \"hhh\"\u001b[0m\n\u001b[0m     ^\u001b[0m\n\u001b[0;31mSyntaxError\u001b[0m\u001b[0;31m:\u001b[0m invalid decimal literal\n"
          ]
        }
      ],
      "source": [
        "1_name = \"hhh\""
      ]
    },
    {
      "cell_type": "code",
      "execution_count": null,
      "id": "f3eeaf80",
      "metadata": {
        "id": "f3eeaf80",
        "outputId": "baa9e7ec-41ed-457e-ea63-f07515fb878f"
      },
      "outputs": [
        {
          "ename": "SyntaxError",
          "evalue": "invalid syntax (2898645604.py, line 1)",
          "output_type": "error",
          "traceback": [
            "\u001b[0;36m  Cell \u001b[0;32mIn[25], line 1\u001b[0;36m\u001b[0m\n\u001b[0;31m    name@ = \"Ram\"\u001b[0m\n\u001b[0m          ^\u001b[0m\n\u001b[0;31mSyntaxError\u001b[0m\u001b[0;31m:\u001b[0m invalid syntax\n"
          ]
        }
      ],
      "source": [
        "name@ = \"Ram\""
      ]
    },
    {
      "cell_type": "code",
      "execution_count": null,
      "id": "50459b13",
      "metadata": {
        "id": "50459b13"
      },
      "outputs": [],
      "source": []
    }
  ],
  "metadata": {
    "kernelspec": {
      "display_name": "Python 3 (ipykernel)",
      "language": "python",
      "name": "python3"
    },
    "language_info": {
      "codemirror_mode": {
        "name": "ipython",
        "version": 3
      },
      "file_extension": ".py",
      "mimetype": "text/x-python",
      "name": "python",
      "nbconvert_exporter": "python",
      "pygments_lexer": "ipython3",
      "version": "3.10.6"
    },
    "colab": {
      "provenance": [],
      "include_colab_link": true
    }
  },
  "nbformat": 4,
  "nbformat_minor": 5
}