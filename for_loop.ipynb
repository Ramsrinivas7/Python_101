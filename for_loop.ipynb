{
  "cells": [
    {
      "cell_type": "markdown",
      "metadata": {
        "id": "view-in-github",
        "colab_type": "text"
      },
      "source": [
        "<a href=\"https://colab.research.google.com/github/Ramsrinivas7/Python_101/blob/main/for_loop.ipynb\" target=\"_parent\"><img src=\"https://colab.research.google.com/assets/colab-badge.svg\" alt=\"Open In Colab\"/></a>"
      ]
    },
    {
      "cell_type": "code",
      "execution_count": null,
      "id": "193fd438-c34a-4092-b908-17778dc0471e",
      "metadata": {
        "tags": [],
        "id": "193fd438-c34a-4092-b908-17778dc0471e",
        "outputId": "8e22f1ab-1529-472d-933e-60bd7096cb9e"
      },
      "outputs": [
        {
          "data": {
            "text/plain": [
              "13"
            ]
          },
          "execution_count": 3,
          "metadata": {},
          "output_type": "execute_result"
        }
      ],
      "source": [
        "a = (1,2,3,4)\n",
        "sum(a,3)"
      ]
    },
    {
      "cell_type": "code",
      "execution_count": null,
      "id": "bd5d870a-2368-4e47-957e-82a479f26371",
      "metadata": {
        "tags": [],
        "id": "bd5d870a-2368-4e47-957e-82a479f26371",
        "outputId": "be24519e-8234-446d-c390-a3d55b1cd8b6"
      },
      "outputs": [
        {
          "ename": "TypeError",
          "evalue": "'int' object is not iterable",
          "output_type": "error",
          "traceback": [
            "\u001b[0;31m---------------------------------------------------------------------------\u001b[0m",
            "\u001b[0;31mTypeError\u001b[0m                                 Traceback (most recent call last)",
            "Cell \u001b[0;32mIn[4], line 1\u001b[0m\n\u001b[0;32m----> 1\u001b[0m \u001b[38;5;28;43msum\u001b[39;49m\u001b[43m(\u001b[49m\u001b[38;5;241;43m1\u001b[39;49m\u001b[43m,\u001b[49m\u001b[38;5;241;43m2\u001b[39;49m\u001b[43m)\u001b[49m\n",
            "\u001b[0;31mTypeError\u001b[0m: 'int' object is not iterable"
          ]
        }
      ],
      "source": [
        "sum(1,2)"
      ]
    },
    {
      "cell_type": "markdown",
      "id": "f749f982-8208-407b-bcc7-fc13220d8f6a",
      "metadata": {
        "id": "f749f982-8208-407b-bcc7-fc13220d8f6a"
      },
      "source": [
        "def function_name(parameters):\n",
        "    return value"
      ]
    },
    {
      "cell_type": "code",
      "execution_count": null,
      "id": "1bd15efe-8336-4039-a601-8290b4c6d1fb",
      "metadata": {
        "tags": [],
        "id": "1bd15efe-8336-4039-a601-8290b4c6d1fb",
        "outputId": "30696829-73bf-473e-ac4a-b5645a24aa4b"
      },
      "outputs": [
        {
          "name": "stdin",
          "output_type": "stream",
          "text": [
            " 2\n",
            " 3\n"
          ]
        },
        {
          "name": "stdout",
          "output_type": "stream",
          "text": [
            "5\n"
          ]
        }
      ],
      "source": [
        "num1 = int(input())\n",
        "num2 = int(input())\n",
        "sum_num = num1 + num2\n",
        "print(sum_num)"
      ]
    },
    {
      "cell_type": "code",
      "execution_count": null,
      "id": "4a19aed0-168c-445a-b358-bbc501f08301",
      "metadata": {
        "tags": [],
        "id": "4a19aed0-168c-445a-b358-bbc501f08301"
      },
      "outputs": [],
      "source": [
        "def add_numbers(num1,num2):\n",
        "    sum_num = num1+num2\n",
        "    return sum_num"
      ]
    },
    {
      "cell_type": "code",
      "execution_count": null,
      "id": "01a9b2b8-fe3b-4114-bbf8-23be9b567813",
      "metadata": {
        "tags": [],
        "id": "01a9b2b8-fe3b-4114-bbf8-23be9b567813",
        "outputId": "c96e54f2-f88c-4be6-b71f-cc8f28542603"
      },
      "outputs": [
        {
          "data": {
            "text/plain": [
              "3"
            ]
          },
          "execution_count": 9,
          "metadata": {},
          "output_type": "execute_result"
        }
      ],
      "source": [
        "add_numbers(1,2)"
      ]
    },
    {
      "cell_type": "code",
      "execution_count": null,
      "id": "d543a1f8-774f-47b5-a25a-8d624e9459c9",
      "metadata": {
        "tags": [],
        "id": "d543a1f8-774f-47b5-a25a-8d624e9459c9",
        "outputId": "6dc64732-82ef-4131-b4b6-d97df545c0fa"
      },
      "outputs": [
        {
          "data": {
            "text/plain": [
              "35555"
            ]
          },
          "execution_count": 10,
          "metadata": {},
          "output_type": "execute_result"
        }
      ],
      "source": [
        "add_numbers(2222,33333)"
      ]
    },
    {
      "cell_type": "code",
      "execution_count": null,
      "id": "3e44399a-8fd0-48da-8c70-88a544c2aa07",
      "metadata": {
        "tags": [],
        "id": "3e44399a-8fd0-48da-8c70-88a544c2aa07"
      },
      "outputs": [],
      "source": [
        "def show():\n",
        "    a = input()\n",
        "    return print(a)\n"
      ]
    },
    {
      "cell_type": "code",
      "execution_count": null,
      "id": "cfa48ba0-78bc-49b2-820e-fc917eb197d5",
      "metadata": {
        "tags": [],
        "id": "cfa48ba0-78bc-49b2-820e-fc917eb197d5",
        "outputId": "42c1366a-9fa2-4917-d39c-d2284d75cdb1"
      },
      "outputs": [
        {
          "name": "stdin",
          "output_type": "stream",
          "text": [
            " HI Ram\n"
          ]
        },
        {
          "name": "stdout",
          "output_type": "stream",
          "text": [
            "HI Ram\n"
          ]
        }
      ],
      "source": [
        "show()"
      ]
    },
    {
      "cell_type": "code",
      "execution_count": null,
      "id": "cdd1ddcb-f3f1-4114-a496-5df5a483c521",
      "metadata": {
        "tags": [],
        "id": "cdd1ddcb-f3f1-4114-a496-5df5a483c521",
        "outputId": "fabaa847-b360-4abb-fcdc-97b4fc9eac5c"
      },
      "outputs": [
        {
          "name": "stdout",
          "output_type": "stream",
          "text": [
            "q\n",
            "w\n",
            "e\n",
            "t\n"
          ]
        }
      ],
      "source": [
        "fruits = [\"q\",\"w\",\"e\",\"t\"]\n",
        "for a  in fruits:\n",
        "    print(a)"
      ]
    },
    {
      "cell_type": "code",
      "execution_count": null,
      "id": "96f621ae-0000-40da-a8e1-0a7bf8a00a1f",
      "metadata": {
        "tags": [],
        "id": "96f621ae-0000-40da-a8e1-0a7bf8a00a1f",
        "outputId": "a4151e9d-21ff-459a-8e96-e8b684bf74dd"
      },
      "outputs": [
        {
          "name": "stdout",
          "output_type": "stream",
          "text": [
            "!\n",
            "!\n",
            "!\n",
            "!\n",
            "!\n",
            "!\n",
            "!\n",
            "!\n",
            "!\n",
            "!\n"
          ]
        }
      ],
      "source": [
        "string = \"Hello All!\"\n",
        "for a in string:\n",
        "    print(letter)"
      ]
    },
    {
      "cell_type": "code",
      "execution_count": null,
      "id": "c38f86a1-e2a6-4da7-a741-e01fc798778b",
      "metadata": {
        "tags": [],
        "id": "c38f86a1-e2a6-4da7-a741-e01fc798778b"
      },
      "outputs": [],
      "source": [
        "points = [(0, 0, 0), (1, 2, 3), (4, 5, 6)]"
      ]
    },
    {
      "cell_type": "code",
      "execution_count": null,
      "id": "e1414b8e-d299-440d-a312-5aba650e49d3",
      "metadata": {
        "tags": [],
        "id": "e1414b8e-d299-440d-a312-5aba650e49d3",
        "outputId": "b858cf35-2cf7-4fa2-abda-bffe5639ca7e"
      },
      "outputs": [
        {
          "name": "stdout",
          "output_type": "stream",
          "text": [
            "(0, 0, 0)\n",
            "(1, 2, 3)\n",
            "(4, 5, 6)\n"
          ]
        }
      ],
      "source": [
        "for point in points:\n",
        "    print(point)"
      ]
    },
    {
      "cell_type": "code",
      "execution_count": null,
      "id": "3bf3ec75-4414-4706-9c1e-c7efc3e28757",
      "metadata": {
        "tags": [],
        "id": "3bf3ec75-4414-4706-9c1e-c7efc3e28757",
        "outputId": "1fa4666d-e837-4723-ef93-01f1cdca5a67"
      },
      "outputs": [
        {
          "name": "stdout",
          "output_type": "stream",
          "text": [
            "(0, 0, 0)\n",
            "0\n",
            "0\n",
            "0\n",
            "(1, 2, 3)\n",
            "1\n",
            "2\n",
            "3\n",
            "(4, 5, 6)\n",
            "4\n",
            "5\n",
            "6\n"
          ]
        }
      ],
      "source": [
        "for point in points:\n",
        "    print(point)\n",
        "    for coordinate in point:\n",
        "        print(coordinate)"
      ]
    },
    {
      "cell_type": "code",
      "execution_count": null,
      "id": "5cde4707-5cc5-40f8-af58-c3469918f6e2",
      "metadata": {
        "tags": [],
        "id": "5cde4707-5cc5-40f8-af58-c3469918f6e2",
        "outputId": "9329c859-be93-4880-80d9-b4ffa2c5165c"
      },
      "outputs": [
        {
          "name": "stdout",
          "output_type": "stream",
          "text": [
            "0\n",
            "0\n",
            "0\n",
            "1\n",
            "2\n",
            "3\n",
            "4\n",
            "5\n",
            "6\n"
          ]
        }
      ],
      "source": [
        "for point in points:\n",
        "    for coordinate in point:\n",
        "        print(coordinate)"
      ]
    },
    {
      "cell_type": "code",
      "execution_count": null,
      "id": "079e5638-195b-4c6b-b820-1c13081a678c",
      "metadata": {
        "tags": [],
        "id": "079e5638-195b-4c6b-b820-1c13081a678c",
        "outputId": "3cb6636d-6633-4c9d-ba1d-2ef9f130e3e8"
      },
      "outputs": [
        {
          "name": "stdout",
          "output_type": "stream",
          "text": [
            "0 Tamil\n",
            "1 Ram\n",
            "2 Dhanush\n"
          ]
        }
      ],
      "source": [
        "names = [\"Tamil\", \"Ram\", \"Dhanush\"]\n",
        "for i,name in enumerate(names):\n",
        "    print(i,name)"
      ]
    },
    {
      "cell_type": "markdown",
      "id": "d4b633ce-bf55-4404-8dcb-6ba1c1a22b0c",
      "metadata": {
        "tags": [],
        "id": "d4b633ce-bf55-4404-8dcb-6ba1c1a22b0c"
      },
      "source": [
        "# new_list = [<expression> for <variable> in <sequence> if <condition>]\n"
      ]
    },
    {
      "cell_type": "code",
      "execution_count": null,
      "id": "c9866ee3-7da5-4b96-82db-3ff0ee936b2c",
      "metadata": {
        "tags": [],
        "id": "c9866ee3-7da5-4b96-82db-3ff0ee936b2c"
      },
      "outputs": [],
      "source": [
        "numbers = range(1,25)\n",
        "even_numbers = [num for num in numbers if num % 2 == 0]"
      ]
    },
    {
      "cell_type": "code",
      "execution_count": null,
      "id": "f5caa845-5e23-4e5a-b905-32b5e6e2694b",
      "metadata": {
        "tags": [],
        "id": "f5caa845-5e23-4e5a-b905-32b5e6e2694b",
        "outputId": "d0d0ec2a-b0e8-4b93-dac9-e0476e103604"
      },
      "outputs": [
        {
          "name": "stdout",
          "output_type": "stream",
          "text": [
            "[2, 4, 6, 8, 10, 12, 14, 16, 18, 20, 22, 24]\n"
          ]
        }
      ],
      "source": [
        "print(even_numbers)"
      ]
    },
    {
      "cell_type": "code",
      "execution_count": null,
      "id": "9b22467f-7888-4b66-8aea-cb73fbe04adc",
      "metadata": {
        "tags": [],
        "id": "9b22467f-7888-4b66-8aea-cb73fbe04adc"
      },
      "outputs": [],
      "source": [
        "# new_dict = {<key_expression>: <value_expression> for <variable> in <sequence> if <condition>}\n",
        "squares = {num:num**2 for num in numbers}"
      ]
    },
    {
      "cell_type": "code",
      "execution_count": null,
      "id": "2a69e455-6f47-4f7e-a57b-f938d6c4ae2d",
      "metadata": {
        "tags": [],
        "id": "2a69e455-6f47-4f7e-a57b-f938d6c4ae2d",
        "outputId": "c528260c-57b6-4390-bd21-05a9a5eb86fc"
      },
      "outputs": [
        {
          "name": "stdout",
          "output_type": "stream",
          "text": [
            "{1: 1, 2: 4, 3: 9, 4: 16, 5: 25, 6: 36, 7: 49, 8: 64, 9: 81, 10: 100, 11: 121, 12: 144, 13: 169, 14: 196, 15: 225, 16: 256, 17: 289, 18: 324, 19: 361, 20: 400, 21: 441, 22: 484, 23: 529, 24: 576}\n"
          ]
        }
      ],
      "source": [
        "print(squares)"
      ]
    },
    {
      "cell_type": "code",
      "execution_count": null,
      "id": "d931302e-c0e3-4c00-b7f2-03730ff3a270",
      "metadata": {
        "id": "d931302e-c0e3-4c00-b7f2-03730ff3a270"
      },
      "outputs": [],
      "source": []
    }
  ],
  "metadata": {
    "kernelspec": {
      "display_name": "Python 3 (ipykernel)",
      "language": "python",
      "name": "python3"
    },
    "language_info": {
      "codemirror_mode": {
        "name": "ipython",
        "version": 3
      },
      "file_extension": ".py",
      "mimetype": "text/x-python",
      "name": "python",
      "nbconvert_exporter": "python",
      "pygments_lexer": "ipython3",
      "version": "3.10.6"
    },
    "colab": {
      "provenance": [],
      "include_colab_link": true
    }
  },
  "nbformat": 4,
  "nbformat_minor": 5
}