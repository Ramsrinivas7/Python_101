{
  "cells": [
    {
      "cell_type": "markdown",
      "metadata": {
        "id": "view-in-github",
        "colab_type": "text"
      },
      "source": [
        "<a href=\"https://colab.research.google.com/github/Ramsrinivas7/Python_101/blob/main/Handson_Day2.ipynb\" target=\"_parent\"><img src=\"https://colab.research.google.com/assets/colab-badge.svg\" alt=\"Open In Colab\"/></a>"
      ]
    },
    {
      "cell_type": "code",
      "execution_count": null,
      "id": "cc99262e",
      "metadata": {
        "id": "cc99262e"
      },
      "outputs": [],
      "source": [
        "eg_1 = 123\n",
        "eg_2 = '123'\n",
        "eg_3 = 12.3"
      ]
    },
    {
      "cell_type": "code",
      "execution_count": null,
      "id": "87e25b1b",
      "metadata": {
        "id": "87e25b1b",
        "outputId": "54a166b3-2752-4a0f-a377-ce5518ce63a6"
      },
      "outputs": [
        {
          "data": {
            "text/plain": [
              "(int, str, float)"
            ]
          },
          "execution_count": 6,
          "metadata": {},
          "output_type": "execute_result"
        }
      ],
      "source": [
        "type(eg_1),type(eg_2),type(eg_3)"
      ]
    },
    {
      "cell_type": "code",
      "execution_count": null,
      "id": "2076c054",
      "metadata": {
        "id": "2076c054"
      },
      "outputs": [],
      "source": [
        "eg_4 = '12.3'"
      ]
    },
    {
      "cell_type": "code",
      "execution_count": null,
      "id": "66081c8a",
      "metadata": {
        "id": "66081c8a",
        "outputId": "8224c44d-8e95-44e6-c161-321e0807b4ad"
      },
      "outputs": [
        {
          "data": {
            "text/plain": [
              "str"
            ]
          },
          "execution_count": 15,
          "metadata": {},
          "output_type": "execute_result"
        }
      ],
      "source": [
        "type(eg_4)"
      ]
    },
    {
      "cell_type": "code",
      "execution_count": null,
      "id": "a1b35e7d",
      "metadata": {
        "id": "a1b35e7d"
      },
      "outputs": [],
      "source": [
        "eg_5 = -123\n",
        "eg_6 = -12.3"
      ]
    },
    {
      "cell_type": "code",
      "execution_count": null,
      "id": "f4500963",
      "metadata": {
        "id": "f4500963",
        "outputId": "9267287b-59f3-4f6a-fc8a-222111cbed88"
      },
      "outputs": [
        {
          "data": {
            "text/plain": [
              "(int, float)"
            ]
          },
          "execution_count": 17,
          "metadata": {},
          "output_type": "execute_result"
        }
      ],
      "source": [
        "type(eg_5),type(eg_6)"
      ]
    },
    {
      "cell_type": "markdown",
      "id": "a5c3b2e8",
      "metadata": {
        "id": "a5c3b2e8"
      },
      "source": [
        "# Boolean - It's a Logical data type"
      ]
    },
    {
      "cell_type": "code",
      "execution_count": null,
      "id": "f7af42a9",
      "metadata": {
        "id": "f7af42a9",
        "outputId": "76cdd754-6bb7-4d3d-9d2e-c9c9eb97a7c6"
      },
      "outputs": [
        {
          "data": {
            "text/plain": [
              "True"
            ]
          },
          "execution_count": 18,
          "metadata": {},
          "output_type": "execute_result"
        }
      ],
      "source": [
        "9 > 8"
      ]
    },
    {
      "cell_type": "code",
      "execution_count": null,
      "id": "c758f110",
      "metadata": {
        "id": "c758f110",
        "outputId": "926a64a2-e6c1-49d2-f14f-81613c334937"
      },
      "outputs": [
        {
          "data": {
            "text/plain": [
              "True"
            ]
          },
          "execution_count": 19,
          "metadata": {},
          "output_type": "execute_result"
        }
      ],
      "source": [
        "10 == 10.0"
      ]
    },
    {
      "cell_type": "code",
      "execution_count": null,
      "id": "5a1faeb6",
      "metadata": {
        "id": "5a1faeb6",
        "outputId": "fe13a1b2-f5a8-4005-a6e9-debf95316ce9"
      },
      "outputs": [
        {
          "data": {
            "text/plain": [
              "False"
            ]
          },
          "execution_count": 25,
          "metadata": {},
          "output_type": "execute_result"
        }
      ],
      "source": [
        "eg_1 = 321\n",
        "eg_1 == eg_2"
      ]
    },
    {
      "cell_type": "code",
      "execution_count": null,
      "id": "8114341d",
      "metadata": {
        "id": "8114341d",
        "outputId": "e0d5bbac-39cd-4cc2-f0fe-573ce3688cef"
      },
      "outputs": [
        {
          "data": {
            "text/plain": [
              "321"
            ]
          },
          "execution_count": 26,
          "metadata": {},
          "output_type": "execute_result"
        }
      ],
      "source": [
        "eg_1"
      ]
    },
    {
      "cell_type": "code",
      "execution_count": null,
      "id": "387dd90b",
      "metadata": {
        "id": "387dd90b",
        "outputId": "fa37ebcb-89c5-405c-a5a5-c377c200073d"
      },
      "outputs": [
        {
          "name": "stdout",
          "output_type": "stream",
          "text": [
            "True\n"
          ]
        }
      ],
      "source": [
        "print(bool(13))"
      ]
    },
    {
      "cell_type": "code",
      "execution_count": null,
      "id": "922c2432",
      "metadata": {
        "id": "922c2432",
        "outputId": "51308fc8-3b9c-4def-e031-73d301862fc8"
      },
      "outputs": [
        {
          "name": "stdout",
          "output_type": "stream",
          "text": [
            "True\n"
          ]
        }
      ],
      "source": [
        "print(bool('Ram'))"
      ]
    },
    {
      "cell_type": "code",
      "execution_count": null,
      "id": "6c8bb7cc",
      "metadata": {
        "id": "6c8bb7cc",
        "outputId": "d8af38ef-e350-4efc-9d9e-a1ea52f37623"
      },
      "outputs": [
        {
          "name": "stdout",
          "output_type": "stream",
          "text": [
            "False\n"
          ]
        }
      ],
      "source": [
        "print(bool(0))"
      ]
    },
    {
      "cell_type": "code",
      "execution_count": null,
      "id": "58e0c03e",
      "metadata": {
        "id": "58e0c03e",
        "outputId": "4440f005-bd8a-4fbf-91da-592192070a07"
      },
      "outputs": [
        {
          "name": "stdout",
          "output_type": "stream",
          "text": [
            "False\n"
          ]
        }
      ],
      "source": [
        "print(bool(None))"
      ]
    },
    {
      "cell_type": "code",
      "execution_count": null,
      "id": "43171cbf",
      "metadata": {
        "id": "43171cbf",
        "outputId": "1287e9b1-69f7-4970-c8db-ba3edde14f19"
      },
      "outputs": [
        {
          "data": {
            "text/plain": [
              "False"
            ]
          },
          "execution_count": 32,
          "metadata": {},
          "output_type": "execute_result"
        }
      ],
      "source": [
        "None == 0"
      ]
    },
    {
      "cell_type": "code",
      "execution_count": null,
      "id": "fd58c80f",
      "metadata": {
        "id": "fd58c80f",
        "outputId": "e582adb6-c839-442d-b426-270539937d33"
      },
      "outputs": [
        {
          "name": "stdout",
          "output_type": "stream",
          "text": [
            "False\n"
          ]
        }
      ],
      "source": [
        "print(bool(\"\"))"
      ]
    },
    {
      "cell_type": "code",
      "execution_count": null,
      "id": "1853370c",
      "metadata": {
        "id": "1853370c",
        "outputId": "e135a884-261f-4cff-90db-a323525ea641"
      },
      "outputs": [
        {
          "name": "stdout",
          "output_type": "stream",
          "text": [
            "True\n"
          ]
        }
      ],
      "source": [
        "print(bool(\" \"))"
      ]
    },
    {
      "cell_type": "code",
      "execution_count": null,
      "id": "36b8ae53",
      "metadata": {
        "id": "36b8ae53"
      },
      "outputs": [],
      "source": [
        "aa = ' '"
      ]
    },
    {
      "cell_type": "code",
      "execution_count": null,
      "id": "954b060a",
      "metadata": {
        "id": "954b060a",
        "outputId": "e4785682-cd76-427b-d894-8799324ae32f"
      },
      "outputs": [
        {
          "data": {
            "text/plain": [
              "str"
            ]
          },
          "execution_count": 42,
          "metadata": {},
          "output_type": "execute_result"
        }
      ],
      "source": [
        "type(aa)"
      ]
    },
    {
      "cell_type": "markdown",
      "id": "c88bbe60",
      "metadata": {
        "id": "c88bbe60"
      },
      "source": [
        "# input"
      ]
    },
    {
      "cell_type": "code",
      "execution_count": null,
      "id": "d5ad4036",
      "metadata": {
        "id": "d5ad4036",
        "outputId": "d31bd1a1-9c43-4542-ee86-c9905faa040d"
      },
      "outputs": [
        {
          "name": "stdout",
          "output_type": "stream",
          "text": [
            "Enter your name: tamil\n",
            "Enter your age: 33\n",
            "Enter your Weight: 64\n"
          ]
        }
      ],
      "source": [
        "name = input(\"Enter your name: \")\n",
        "age = int(input(\"Enter your age: \"))\n",
        "weight = float(input(\"Enter your Weight: \"))"
      ]
    },
    {
      "cell_type": "code",
      "execution_count": null,
      "id": "ca383aef",
      "metadata": {
        "id": "ca383aef",
        "outputId": "71928c2f-bdc1-4458-fa60-0da938e8e213"
      },
      "outputs": [
        {
          "data": {
            "text/plain": [
              "str"
            ]
          },
          "execution_count": 52,
          "metadata": {},
          "output_type": "execute_result"
        }
      ],
      "source": [
        "type(name)"
      ]
    },
    {
      "cell_type": "code",
      "execution_count": null,
      "id": "34f38242",
      "metadata": {
        "id": "34f38242",
        "outputId": "c635e16b-cb87-4a17-9e7d-d3dbd62c077f"
      },
      "outputs": [
        {
          "data": {
            "text/plain": [
              "int"
            ]
          },
          "execution_count": 53,
          "metadata": {},
          "output_type": "execute_result"
        }
      ],
      "source": [
        "type(age)"
      ]
    },
    {
      "cell_type": "code",
      "execution_count": null,
      "id": "8dcce851",
      "metadata": {
        "id": "8dcce851",
        "outputId": "11522fe4-f68e-4423-fb59-c44b27c73787"
      },
      "outputs": [
        {
          "data": {
            "text/plain": [
              "64.0"
            ]
          },
          "execution_count": 59,
          "metadata": {},
          "output_type": "execute_result"
        }
      ],
      "source": [
        "weight"
      ]
    },
    {
      "cell_type": "markdown",
      "id": "660f481a",
      "metadata": {
        "id": "660f481a"
      },
      "source": [
        "# Complex Numbers"
      ]
    },
    {
      "cell_type": "code",
      "execution_count": null,
      "id": "3281ed25",
      "metadata": {
        "id": "3281ed25"
      },
      "outputs": [],
      "source": [
        "z = complex(3,5)\n",
        "y = 3 + 5j\n",
        "y1 = 2 + 6j"
      ]
    },
    {
      "cell_type": "code",
      "execution_count": null,
      "id": "10beb8c1",
      "metadata": {
        "id": "10beb8c1",
        "outputId": "bb054fe4-8a2b-42a5-abc2-5cc160fd231b"
      },
      "outputs": [
        {
          "data": {
            "text/plain": [
              "True"
            ]
          },
          "execution_count": 61,
          "metadata": {},
          "output_type": "execute_result"
        }
      ],
      "source": [
        "z == y"
      ]
    },
    {
      "cell_type": "code",
      "execution_count": null,
      "id": "17eebd83",
      "metadata": {
        "id": "17eebd83",
        "outputId": "5b7de6ec-25b0-425e-f980-d28a9241fd77"
      },
      "outputs": [
        {
          "data": {
            "text/plain": [
              "(3+5j)"
            ]
          },
          "execution_count": 62,
          "metadata": {},
          "output_type": "execute_result"
        }
      ],
      "source": [
        "z"
      ]
    },
    {
      "cell_type": "code",
      "execution_count": null,
      "id": "c5217da5",
      "metadata": {
        "id": "c5217da5",
        "outputId": "2cf6b940-0ae1-48a2-b8db-d11390459cc2"
      },
      "outputs": [
        {
          "data": {
            "text/plain": [
              "(5+11j)"
            ]
          },
          "execution_count": 64,
          "metadata": {},
          "output_type": "execute_result"
        }
      ],
      "source": [
        "y + y1"
      ]
    },
    {
      "cell_type": "code",
      "execution_count": null,
      "id": "1b0d526c",
      "metadata": {
        "id": "1b0d526c",
        "outputId": "da934438-c63a-4c6a-833e-c6d8a5e76535"
      },
      "outputs": [
        {
          "data": {
            "text/plain": [
              "(1-1j)"
            ]
          },
          "execution_count": 65,
          "metadata": {},
          "output_type": "execute_result"
        }
      ],
      "source": [
        "y - y1"
      ]
    },
    {
      "cell_type": "code",
      "execution_count": null,
      "id": "c5e174ca",
      "metadata": {
        "id": "c5e174ca"
      },
      "outputs": [],
      "source": [
        "a = 10"
      ]
    },
    {
      "cell_type": "code",
      "execution_count": null,
      "id": "3c6b069b",
      "metadata": {
        "id": "3c6b069b",
        "outputId": "8d363b0d-b595-4c5a-a1bc-43c70f414942"
      },
      "outputs": [
        {
          "data": {
            "text/plain": [
              "int"
            ]
          },
          "execution_count": 67,
          "metadata": {},
          "output_type": "execute_result"
        }
      ],
      "source": [
        "type(a)"
      ]
    },
    {
      "cell_type": "code",
      "execution_count": null,
      "id": "37a72401",
      "metadata": {
        "id": "37a72401"
      },
      "outputs": [],
      "source": [
        "a_float = float(a)"
      ]
    },
    {
      "cell_type": "code",
      "execution_count": null,
      "id": "45431775",
      "metadata": {
        "id": "45431775",
        "outputId": "8fb62196-0d4e-4c69-f67a-621bd2891e68"
      },
      "outputs": [
        {
          "data": {
            "text/plain": [
              "10.0"
            ]
          },
          "execution_count": 69,
          "metadata": {},
          "output_type": "execute_result"
        }
      ],
      "source": [
        "a_float"
      ]
    },
    {
      "cell_type": "code",
      "execution_count": null,
      "id": "74b5762a",
      "metadata": {
        "id": "74b5762a",
        "outputId": "66d9adef-213e-4dad-ecff-8d1117ba4724"
      },
      "outputs": [
        {
          "data": {
            "text/plain": [
              "float"
            ]
          },
          "execution_count": 74,
          "metadata": {},
          "output_type": "execute_result"
        }
      ],
      "source": [
        "b = 12.6\n",
        "type(b)"
      ]
    },
    {
      "cell_type": "code",
      "execution_count": null,
      "id": "2f9bef67",
      "metadata": {
        "id": "2f9bef67"
      },
      "outputs": [],
      "source": [
        "b_int = int(b)"
      ]
    },
    {
      "cell_type": "code",
      "execution_count": null,
      "id": "cc3be7ad",
      "metadata": {
        "id": "cc3be7ad",
        "outputId": "ab52dd27-db94-4701-83ac-89dd1e7a1106"
      },
      "outputs": [
        {
          "data": {
            "text/plain": [
              "12"
            ]
          },
          "execution_count": 76,
          "metadata": {},
          "output_type": "execute_result"
        }
      ],
      "source": [
        "b_int"
      ]
    },
    {
      "cell_type": "code",
      "execution_count": null,
      "id": "41bcca04",
      "metadata": {
        "id": "41bcca04",
        "outputId": "e61a9506-4d5a-4d9a-b545-9f2787255559"
      },
      "outputs": [
        {
          "name": "stdout",
          "output_type": "stream",
          "text": [
            "30\n"
          ]
        },
        {
          "data": {
            "text/plain": [
              "str"
            ]
          },
          "execution_count": 78,
          "metadata": {},
          "output_type": "execute_result"
        }
      ],
      "source": [
        "num_int = 30\n",
        "num_str = str(num_int)\n",
        "print(num_str)  \n",
        "type(num_str)"
      ]
    },
    {
      "cell_type": "code",
      "execution_count": null,
      "id": "9b7ed3e3",
      "metadata": {
        "id": "9b7ed3e3"
      },
      "outputs": [],
      "source": [
        "num_str = \"15.5\"\n",
        "num_float = float(num_str)"
      ]
    },
    {
      "cell_type": "code",
      "execution_count": null,
      "id": "96897b88",
      "metadata": {
        "id": "96897b88",
        "outputId": "52fa327e-287e-42a7-b37d-4da6ddb48ded"
      },
      "outputs": [
        {
          "data": {
            "text/plain": [
              "15.5"
            ]
          },
          "execution_count": 87,
          "metadata": {},
          "output_type": "execute_result"
        }
      ],
      "source": [
        "num_float"
      ]
    },
    {
      "cell_type": "code",
      "execution_count": null,
      "id": "c430901c",
      "metadata": {
        "id": "c430901c",
        "outputId": "c277fec3-25ff-43f3-9dba-8d486a7ff057"
      },
      "outputs": [
        {
          "data": {
            "text/plain": [
              "float"
            ]
          },
          "execution_count": 88,
          "metadata": {},
          "output_type": "execute_result"
        }
      ],
      "source": [
        "type(num_float)"
      ]
    },
    {
      "cell_type": "code",
      "execution_count": null,
      "id": "e37d916c",
      "metadata": {
        "id": "e37d916c"
      },
      "outputs": [],
      "source": []
    }
  ],
  "metadata": {
    "kernelspec": {
      "display_name": "Python 3 (ipykernel)",
      "language": "python",
      "name": "python3"
    },
    "language_info": {
      "codemirror_mode": {
        "name": "ipython",
        "version": 3
      },
      "file_extension": ".py",
      "mimetype": "text/x-python",
      "name": "python",
      "nbconvert_exporter": "python",
      "pygments_lexer": "ipython3",
      "version": "3.10.6"
    },
    "colab": {
      "provenance": [],
      "include_colab_link": true
    }
  },
  "nbformat": 4,
  "nbformat_minor": 5
}